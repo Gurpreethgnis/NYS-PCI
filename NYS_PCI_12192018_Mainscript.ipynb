{
 "cells": [
  {
   "cell_type": "code",
   "execution_count": null,
   "metadata": {
    "collapsed": true
   },
   "outputs": [],
   "source": [
    "import warnings\n",
    "import collections\n",
    "#please save these files in the same directory inside folder ./Data\n",
    "Indir='./'\n",
    "Org_File='Data_file.csv'\n",
    "X_Data_Name='x_data.csv'\n",
    "Y_Data_Name='y_data.csv'\n",
    "Cats='cat_cols.csv'\n",
    "Cons='con_cols.csv'\n",
    "savedir='./Figures/Missing_Variables'"
   ]
  },
  {
   "cell_type": "code",
   "execution_count": null,
   "metadata": {
    "collapsed": true,
    "scrolled": true
   },
   "outputs": [],
   "source": [
    "MisPerc=['0','10','20','30','40','50','60','70','80','90']\n",
    "imputers=['MICE']\n",
    "Models=['xgboost']\n",
    "ComRes=collections.defaultdict()\n",
    "j=1\n",
    "end=10\n",
    "import numpy as np\n",
    "warnings.simplefilter('ignore',DeprecationWarning)\n",
    "for model in Models:\n",
    "    for imputer in imputers:\n",
    "        for missing_percentage in MisPerc:\n",
    "            Results=collections.defaultdict()\n",
    "            print '#'*40+' Run '+str(j)+' '+'#'*40\n",
    "            from ReadData import Read_Data as DataRead\n",
    "            Data_Read=DataRead()\n",
    "            #-------------Loading Data-----------------\n",
    "            Data=Data_Read.load_data(infile=Org_File,snxdata=X_Data_Name,snydata=Y_Data_Name,sncatcols=Cats,snconcols=Cons,indir=Indir)\n",
    "            #-------------Filter Missing Data----------\n",
    "            Proc_Data=Data_Read.filter_missing_data(x_data=Data['x_data'],missing_percentage=missing_percentage,cat_cols=Data['cat_cols'],con_cols=Data['con_cols'])\n",
    "            #-------------Normalize and categorize Data----------\n",
    "            train_data=Data_Read.normalize_categorize_only(x_filtered_w_missing=Proc_Data['x_data'],new_con_cols=Proc_Data['con_cols'],new_cat_cols=Proc_Data['cat_cols'])\n",
    "\n",
    "            from TrainData import Train_Data as TrainData\n",
    "            #-------------Impute Data and Train Model----------\n",
    "            Data_Train=TrainData()\n",
    "            Output=Data_Train.train_model(x_data=train_data,y_data=Data['y_data'],cat_cols=Proc_Data['cat_cols'],con_cols=Proc_Data['con_cols'],model=model,imputer=imputer,cvsplit=4,rstate=101,misper=missing_percentage)\n",
    "            ModelNum='Model_'+str(j)\n",
    "            Results['MisPerc']=missing_percentage\n",
    "            Results['ValAcc']=Output['Mean_vals']['Val']['Acc']\n",
    "            Results['TestAcc']=Output['Mean_vals']['Test']['Acc']\n",
    "            Results['model']=model\n",
    "            Results['TPR']=Output['Acc_vals']['Val']['TPR']\n",
    "            Results['FPR']=Output['Acc_vals']['Val']['FPR']\n",
    "            Results['imputer']=imputer\n",
    "            print 'Completed '+str(model)+' with missing '+str(missing_percentage)+' imputer '+str(imputer)\n",
    "            ComRes[ModelNum]=Results        \n",
    "            j=j+1\n",
    "savename='Results_'+str(model)+str(3)+'.npy'\n",
    "np.save(savename,np.array(ComRes))\n"
   ]
  }
 ],
 "metadata": {
  "kernelspec": {
   "display_name": "Python 2",
   "language": "python",
   "name": "python2"
  },
  "language_info": {
   "codemirror_mode": {
    "name": "ipython",
    "version": 2
   },
   "file_extension": ".py",
   "mimetype": "text/x-python",
   "name": "python",
   "nbconvert_exporter": "python",
   "pygments_lexer": "ipython2",
   "version": "2.7.14"
  }
 },
 "nbformat": 4,
 "nbformat_minor": 2
}
