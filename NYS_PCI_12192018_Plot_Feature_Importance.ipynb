{
 "cells": [
  {
   "cell_type": "code",
   "execution_count": null,
   "metadata": {},
   "outputs": [],
   "source": [
    "from sklearn.ensemble import AdaBoostClassifier as ABC\n",
    "from sklearn.ensemble import RandomForestClassifier as RFC\n",
    "from sklearn.linear_model import LogisticRegression as LR\n",
    "import xgboost as xgb\n",
    "import matplotlib.pyplot as plt\n",
    "%matplotlib inline\n",
    "import pandas as pd\n",
    "import numpy as np\n",
    "import pickle\n",
    "modelname='adaboost'\n",
    "\n",
    "x_data=pd.read_csv('FILE FOR DATA.csv')\n",
    "with open('SAVED MODEL PICKLE FILE',\"rb\") as handle:\n",
    "    Output=pickle.load(handle)\n",
    "FI=[]\n",
    "for i in range(0,5):\n",
    "    model=xgb.XGBClassifier()\n",
    "    X=Output[modelname]['dataset']['x_train'][i]\n",
    "    Y=Output[modelname]['dataset']['y_train'][i]\n",
    "    Trained_model=model.fit(X,Y)\n",
    "    FI.append(Trained_model.feature_importances_)\n",
    "FImp=pd.DataFrame({'CV1':FI[0],'CV2':FI[1],'CV3':FI[2],'CV4':FI[3],'CV5':FI[4]})\n",
    "FImp=FImp.transpose()\n",
    "FImp.columns=x_data.columns\n",
    "features=pd.DataFrame()\n",
    "features['features']=x_data.columns\n",
    "features['importance']=FImp.mean().values\n",
    "features['stdval']=FImp.std().values\n",
    "sorted_features=features.sort_values(by=['importance'],ascending=True)\n",
    "fig,ax=plt.subplots()\n",
    "fig.set_size_inches(20,10)\n",
    "plt.xticks(rotation=90)\n",
    "ax.set_title(\"Feature Importance\",fontsize=20)\n",
    "for tick in ax.get_xticklabels():\n",
    "    tick.set_fontsize(16)\n",
    "for tick in ax.get_yticklabels():\n",
    "    tick.set_fontsize(16)\n",
    "ax.grid(color='k',linestyle='-',linewidth=0.1,which='major')\n",
    "plt.barh(sorted_features['features'].values[-20:],sorted_features['importance'].values[-20:],xerr=sorted_features['stdval'].values[-20:],color='teal')"
   ]
  }
 ],
 "metadata": {
  "kernelspec": {
   "display_name": "Python 2",
   "language": "python",
   "name": "python2"
  },
  "language_info": {
   "codemirror_mode": {
    "name": "ipython",
    "version": 2
   },
   "file_extension": ".py",
   "mimetype": "text/x-python",
   "name": "python",
   "nbconvert_exporter": "python",
   "pygments_lexer": "ipython2",
   "version": "2.7.14"
  }
 },
 "nbformat": 4,
 "nbformat_minor": 2
}
